{
 "cells": [
  {
   "cell_type": "markdown",
   "metadata": {},
   "source": [
    "# Model performance\n",
    "\n",
    "Comparing baseline vs current model performance, and investigation into areas for improvement."
   ]
  },
  {
   "cell_type": "code",
   "execution_count": 1,
   "metadata": {},
   "outputs": [],
   "source": [
    "import itertools\n",
    "import json\n",
    "import random\n",
    "import yaml\n",
    "\n",
    "import numpy as np\n",
    "import pandas as pd\n",
    "from sklearn import metrics"
   ]
  },
  {
   "cell_type": "code",
   "execution_count": 2,
   "metadata": {},
   "outputs": [
    {
     "name": "stdout",
     "output_type": "stream",
     "text": [
      "/Users/mitchell/projects/personal/f1-rating-system\n"
     ]
    },
    {
     "name": "stderr",
     "output_type": "stream",
     "text": [
      "/Users/mitchell/Library/Caches/pypoetry/virtualenvs/f1-rating-system-bj5GO79q-py3.11/lib/python3.11/site-packages/IPython/core/magics/osm.py:417: UserWarning: This is now an optional IPython functionality, setting dhist requires you to install the `pickleshare` library.\n",
      "  self.shell.db['dhist'] = compress_dhist(dhist)[-100:]\n"
     ]
    }
   ],
   "source": [
    "# Move project root folder\n",
    "%cd .."
   ]
  },
  {
   "cell_type": "code",
   "execution_count": 3,
   "metadata": {},
   "outputs": [],
   "source": [
    "with open(\"params.yaml\") as conf_file:\n",
    "    CONFIG = yaml.safe_load(conf_file)"
   ]
  },
  {
   "cell_type": "markdown",
   "metadata": {},
   "source": [
    "# Baseline model: Random expectation"
   ]
  },
  {
   "cell_type": "code",
   "execution_count": 4,
   "metadata": {},
   "outputs": [],
   "source": [
    "features_df = pd.read_csv(CONFIG[\"data\"][\"features_path\"])\n",
    "features_df[\"prevRaces\"] = features_df.groupby(\"driverId\").cumcount()"
   ]
  },
  {
   "cell_type": "code",
   "execution_count": 5,
   "metadata": {},
   "outputs": [
    {
     "name": "stdout",
     "output_type": "stream",
     "text": [
      "Baseline model performance: 0.7081\n"
     ]
    }
   ],
   "source": [
    "yr_df = features_df[[\"year\", \"round\"]].drop_duplicates()\n",
    "score_list = []\n",
    "\n",
    "for i in range(5):\n",
    "    error_list = []\n",
    "\n",
    "    for _, (yr, rnd) in yr_df.iterrows():\n",
    "        valid_ix = (features_df[\"year\"] == yr) & (features_df[\"round\"] == rnd)\n",
    "        ran_results = list(features_df.loc[valid_ix, \"driverId\"])\n",
    "        random.shuffle(ran_results)\n",
    "\n",
    "        for ix_1, ix_2 in itertools.combinations(features_df[valid_ix].index, 2):\n",
    "            dri_i = features_df.loc[ix_1, \"driverId\"]\n",
    "            pos_i = features_df.loc[ix_1, \"mapPosition\"]\n",
    "            dri_j = features_df.loc[ix_2, \"driverId\"]\n",
    "            pos_j = features_df.loc[ix_2, \"mapPosition\"]\n",
    "\n",
    "            # continue if drivers in same car\n",
    "            if pos_i == pos_j:\n",
    "                continue\n",
    "            \n",
    "            # get expected result - random shuffle\n",
    "            if ran_results.index(dri_i) < ran_results.index(dri_j):\n",
    "                e_i = 1\n",
    "                e_j = 0\n",
    "            else:\n",
    "                e_i = 0\n",
    "                e_j = 1\n",
    "\n",
    "            # get actual result \n",
    "            if pos_i < pos_j:\n",
    "                a_i = 1\n",
    "                a_j = 0\n",
    "            else:\n",
    "                a_i = 0\n",
    "                a_j = 1\n",
    "\n",
    "            error_list.append({\n",
    "                \"pred\": e_i,\n",
    "                \"true\": a_i\n",
    "            })\n",
    "\n",
    "    err_df = pd.DataFrame(error_list)\n",
    "    root_brier_score = np.sqrt(metrics.brier_score_loss(err_df[\"true\"], err_df[\"pred\"]))\n",
    "    score_list.append(root_brier_score)\n",
    "\n",
    "print(f\"Baseline model performance: {round(np.mean(score_list), 4)}\")"
   ]
  },
  {
   "cell_type": "markdown",
   "metadata": {},
   "source": [
    "# Current model: Multiplayer and assymetric model"
   ]
  },
  {
   "cell_type": "code",
   "execution_count": 7,
   "metadata": {},
   "outputs": [
    {
     "name": "stdout",
     "output_type": "stream",
     "text": [
      "Current model performance : 0.4585\n"
     ]
    }
   ],
   "source": [
    "with open(\"models/metrics.json\") as infile:\n",
    "    perf_dict = json.load(infile)\n",
    "\n",
    "print(f\"Current model performance : {round(perf_dict['RMSE'], 4)}\")"
   ]
  },
  {
   "cell_type": "markdown",
   "metadata": {},
   "source": [
    "# Error EDA\n",
    "\n",
    "TBC"
   ]
  },
  {
   "cell_type": "code",
   "execution_count": 8,
   "metadata": {},
   "outputs": [],
   "source": [
    "# sn.displot(err_df.sample(20000), x=\"elo_diff\", y=\"squared_error\", kind=\"kde\")"
   ]
  },
  {
   "cell_type": "code",
   "execution_count": null,
   "metadata": {},
   "outputs": [],
   "source": []
  }
 ],
 "metadata": {
  "kernelspec": {
   "display_name": "f1-rating-system-bj5GO79q-py3.11",
   "language": "python",
   "name": "python3"
  },
  "language_info": {
   "codemirror_mode": {
    "name": "ipython",
    "version": 3
   },
   "file_extension": ".py",
   "mimetype": "text/x-python",
   "name": "python",
   "nbconvert_exporter": "python",
   "pygments_lexer": "ipython3",
   "version": "3.11.9"
  }
 },
 "nbformat": 4,
 "nbformat_minor": 2
}
